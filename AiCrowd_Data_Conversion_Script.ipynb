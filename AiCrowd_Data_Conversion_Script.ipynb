{
  "nbformat": 4,
  "nbformat_minor": 0,
  "metadata": {
    "colab": {
      "name": "AiCrowd Data Conversion Script.ipynb",
      "provenance": []
    },
    "kernelspec": {
      "name": "python3",
      "display_name": "Python 3"
    }
  },
  "cells": [
    {
      "cell_type": "code",
      "metadata": {
        "id": "n6XesaqqgGuA"
      },
      "source": [
        "import pandas as pd\n",
        "\n",
        "from tqdm import tqdm_notebook\n",
        "from IPython.display import clear_output\n",
        "\n",
        "!rm -r sample_data\n",
        "# Use gdown function with file id to download the original data file\n",
        "# It works faster\n",
        "%cp '/content/drive/My Drive/SnakeDataset/train.tar.gz' .\n",
        "!tar xvzf train.tar.gz\n",
        "!rm train.tar.gz\n",
        "clear_output()\n",
        "\n",
        "df = pd.read_csv('/content/class_folder_map.csv')\n",
        "df.head(5)\n",
        "\n",
        "breeds = ['agkistrodon-contortrix', 'agkistrodon-piscivorus', 'coluber-constrictor', 'crotalus-atrox',\n",
        "          'crotalus-horridus', 'crotalus-ruber', 'crotalus-scutulatus', 'crotalus-viridis', 'diadophis-punctatus',\n",
        "          'haldea-striatula', 'heterodon-platirhinos', 'lampropeltis-californiae', 'lampropeltis-triangulum',\n",
        "          'masticophis-flagellum', 'natrix-natrix', 'nerodia-erythrogaster', 'nerodia-fasciata',\n",
        "          'nerodia-rhombifer', 'nerodia-sipedon', 'opheodrys-aestivus', 'pantherophis-alleghaniensis',\n",
        "          'pantherophis-emoryi', 'pantherophis-guttatus', 'pantherophis-obsoletus', 'pantherophis-spiloides',\n",
        "          'pantherophis-vulpinus', 'pituophis-catenifer', 'rhinocheilus-lecontei', 'storeria-dekayi',\n",
        "          'storeria-occipitomaculata', 'thamnophis-elegans', 'thamnophis-marcianus', 'thamnophis-proximus',\n",
        "          'thamnophis-radix', 'thamnophis-sirtalis']\n",
        "\n",
        "          "
      ],
      "execution_count": null,
      "outputs": []
    },
    {
      "cell_type": "markdown",
      "metadata": {
        "id": "u8ecRhubixao"
      },
      "source": [
        "# Changing the Folder Names and Removing Extra Classes\n",
        "Run this only once"
      ]
    },
    {
      "cell_type": "code",
      "metadata": {
        "id": "lu4upLQytE5L"
      },
      "source": [
        "%cd /content/train\n",
        "import os\n",
        "for idx, row in df.iterrows():\n",
        "    if row.class_name in breeds:\n",
        "        os.rename(row.folder, row.class_name)\n",
        "        \n",
        "!rm -r class*\n",
        "%cd /content"
      ],
      "execution_count": null,
      "outputs": []
    },
    {
      "cell_type": "code",
      "metadata": {
        "id": "8i9Tm1Hi5w5U"
      },
      "source": [
        "df.columns = ['class_name', 'folder']"
      ],
      "execution_count": null,
      "outputs": []
    },
    {
      "cell_type": "code",
      "metadata": {
        "id": "hU2V-jTh6mu-"
      },
      "source": [
        "from PIL import Image\n",
        "import os, sys\n",
        "import tqdm.notebook as tq\n",
        "\n",
        "def resize(source_folder , destination_folder, size):\n",
        "    problem_files = []\n",
        "    dirs = os.listdir(source_folder)\n",
        "    for dir in tq.tqdm(dirs):\n",
        "        # print(dir)\n",
        "        img_names = os.listdir(os.path.join(source_folder, dir))\n",
        "        for img_name in tq.tqdm(img_names):\n",
        "            src_path = os.path.join(source_folder, dir , img_name)\n",
        "            dst_path = os.path.join(destination_folder, dir , img_name)\n",
        "            try:\n",
        "                im = Image.open(src_path)\n",
        "                imResize = im.resize(size, Image.ANTIALIAS)\n",
        "                imResize.save(dst_path ,  'JPEG', quality=90)\n",
        "            except:\n",
        "                # print('problem: ' + src_path)\n",
        "                problem_files.append(src_path)\n",
        "    return problem_files"
      ],
      "execution_count": null,
      "outputs": []
    },
    {
      "cell_type": "code",
      "metadata": {
        "id": "FT59n-wT0XGk",
        "colab": {
          "base_uri": "https://localhost:8080/"
        },
        "outputId": "bc29e8bb-a624-45dc-b675-83490df0cbd8"
      },
      "source": [
        "%cd /content/ \n",
        "\n",
        "dataset_destination = '/content/snake_128x128'\n",
        "dataset_source = '/content/train'\n",
        "\n",
        "# Creating new train data directory\n",
        "os.mkdir(dataset_destination)\n",
        "# Creating one folder for each of the image classes. \n",
        "for cls in breeds:\n",
        "    os.mkdir(os.path.join(dataset_destination, cls)) "
      ],
      "execution_count": null,
      "outputs": [
        {
          "output_type": "stream",
          "text": [
            "/content\n"
          ],
          "name": "stdout"
        }
      ]
    },
    {
      "cell_type": "code",
      "metadata": {
        "id": "863SRN2S0k5j"
      },
      "source": [
        "problem_files = resize(dataset_source, dataset_destination, size = (128,128))"
      ],
      "execution_count": null,
      "outputs": []
    },
    {
      "cell_type": "code",
      "metadata": {
        "id": "fKAtMWi9EreR"
      },
      "source": [
        "!zip -r snake_aicrowd_128x128.zip snake_128x128"
      ],
      "execution_count": null,
      "outputs": []
    },
    {
      "cell_type": "code",
      "metadata": {
        "id": "YDg4DxVyRdvS"
      },
      "source": [
        "%mv /content/snake_aicrowd_128x128.zip '/content/drive/My Drive/SnakeDataset'"
      ],
      "execution_count": null,
      "outputs": []
    },
    {
      "cell_type": "code",
      "metadata": {
        "id": "Mk58TfEpSm69"
      },
      "source": [
        ""
      ],
      "execution_count": null,
      "outputs": []
    }
  ]
}